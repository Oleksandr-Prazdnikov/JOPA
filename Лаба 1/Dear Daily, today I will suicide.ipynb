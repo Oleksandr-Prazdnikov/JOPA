{
 "cells": [
  {
   "cell_type": "code",
   "execution_count": 2,
   "metadata": {},
   "outputs": [
    {
     "name": "stdout",
     "output_type": "stream",
     "text": [
      "DonSanchous start programming at 2022-09-04 16:33:17.829723\n"
     ]
    }
   ],
   "source": [
    "from datetime import datetime\n",
    "name = \"DonSanchous\"\n",
    "\n",
    "print(f\"{name} start programming at {datetime.now()}\")"
   ]
  },
  {
   "cell_type": "markdown",
   "metadata": {},
   "source": [
    "Ну цей вот тут такевот і цей вот я ... забув) (To be continued)\n",
    "\n",
    "Ну окей, напишу:\n",
    "Всеж воно виводить дату та час виконання програми, рекламу від Microsoft Corporation та ім'я введене власноруч у програмі "
   ]
  }
 ],
 "metadata": {
  "kernelspec": {
   "display_name": "Python 3.10.6 64-bit",
   "language": "python",
   "name": "python3"
  },
  "language_info": {
   "codemirror_mode": {
    "name": "ipython",
    "version": 3
   },
   "file_extension": ".py",
   "mimetype": "text/x-python",
   "name": "python",
   "nbconvert_exporter": "python",
   "pygments_lexer": "ipython3",
   "version": "3.10.6"
  },
  "orig_nbformat": 4,
  "vscode": {
   "interpreter": {
    "hash": "22057194578297a9de703a95ef228e2076b4dd0fc4afc72d8546d0a4709bde06"
   }
  }
 },
 "nbformat": 4,
 "nbformat_minor": 2
}
