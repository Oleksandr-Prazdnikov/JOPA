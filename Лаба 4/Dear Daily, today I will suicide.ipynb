{
 "cells": [
  {
   "cell_type": "code",
   "execution_count": 1,
   "metadata": {},
   "outputs": [
    {
     "name": "stdout",
     "output_type": "stream",
     "text": [
      "змінна з текстом\n",
      "1\n",
      "['a', 1, 1.25, 'Слово']\n",
      "{'a': 'Слово', 'b': 1}\n",
      "('a',)\n",
      "{'ss'}\n"
     ]
    }
   ],
   "source": [
    "a = \"змінна з текстом\"\n",
    "b = 1 # числова Змінна\n",
    "c = [\"a\", 1, 1.25, \"Слово\"] # List\n",
    "d = {\"a\": \"Слово\", \"b\": 1} # Dict\n",
    "e = (\"a\", ) # Tuple\n",
    "f = {\"ss\", } # Set\n",
    "\n",
    "print(a)\n",
    "print(b)\n",
    "print(c)\n",
    "print(d)\n",
    "print(e)\n",
    "print(f)"
   ]
  },
  {
   "cell_type": "code",
   "execution_count": 2,
   "metadata": {},
   "outputs": [
    {
     "name": "stdout",
     "output_type": "stream",
     "text": [
      "Перша константа False\n",
      "Друга константа True\n",
      "Третя константа None\n"
     ]
    }
   ],
   "source": [
    "print(\"Перша константа\", False)\n",
    "print(\"Друга константа\", True)\n",
    "print(\"Третя константа\", None)"
   ]
  },
  {
   "cell_type": "code",
   "execution_count": 3,
   "metadata": {},
   "outputs": [
    {
     "name": "stdout",
     "output_type": "stream",
     "text": [
      "12.5 є рівним 12.5\n",
      "{'__name__': '__main__', '__doc__': 'Automatically created module for IPython interactive environment', '__package__': None, '__loader__': None, '__spec__': None, '__builtin__': <module 'builtins' (built-in)>, '__builtins__': <module 'builtins' (built-in)>, '_ih': ['', 'a = \"змінна з текстом\"\\nb = 1 # числова Змінна\\nc = [\"a\", 1, 1.25, \"Слово\"] # List\\nd = {\"a\": \"Слово\", \"b\": 1} # Dict\\ne = (\"a\", ) # Tuple\\nf = {\"ss\", } # Set\\n\\nprint(a)\\nprint(b)\\nprint(c)\\nprint(d)\\nprint(e)\\nprint(f)', 'print(\"Перша константа\", False)\\nprint(\"Друга константа\", True)\\nprint(\"Третя константа\", None)', 'print(abs(-12.5), f\"є рівним {abs(12.5)}\")\\nprint(globals())\\nprint(float())'], '_oh': {}, '_dh': [WindowsPath('c:/Users/niger/Desktop/Навчання/ООП/JOPA/Лаба 2')], 'In': ['', 'a = \"змінна з текстом\"\\nb = 1 # числова Змінна\\nc = [\"a\", 1, 1.25, \"Слово\"] # List\\nd = {\"a\": \"Слово\", \"b\": 1} # Dict\\ne = (\"a\", ) # Tuple\\nf = {\"ss\", } # Set\\n\\nprint(a)\\nprint(b)\\nprint(c)\\nprint(d)\\nprint(e)\\nprint(f)', 'print(\"Перша константа\", False)\\nprint(\"Друга константа\", True)\\nprint(\"Третя константа\", None)', 'print(abs(-12.5), f\"є рівним {abs(12.5)}\")\\nprint(globals())\\nprint(float())'], 'Out': {}, 'get_ipython': <bound method InteractiveShell.get_ipython of <ipykernel.zmqshell.ZMQInteractiveShell object at 0x000002AFA4A0FE50>>, 'exit': <IPython.core.autocall.ZMQExitAutocall object at 0x000002AFA4A0CF70>, 'quit': <IPython.core.autocall.ZMQExitAutocall object at 0x000002AFA4A0CF70>, '_': '', '__': '', '___': '', 'os': <module 'os' from 'c:\\\\Users\\\\niger\\\\AppData\\\\Local\\\\Programs\\\\Python\\\\Python310\\\\lib\\\\os.py'>, 'sys': <module 'sys' (built-in)>, '__vsc_ipynb_file__': 'c:\\\\Users\\\\niger\\\\Desktop\\\\Навчання\\\\ООП\\\\JOPA\\\\Лаба 2\\\\Dear Daily, today I will suicide.ipynb', '_i': 'print(\"Перша константа\", False)\\nprint(\"Друга константа\", True)\\nprint(\"Третя константа\", None)', '_ii': 'a = \"змінна з текстом\"\\nb = 1 # числова Змінна\\nc = [\"a\", 1, 1.25, \"Слово\"] # List\\nd = {\"a\": \"Слово\", \"b\": 1} # Dict\\ne = (\"a\", ) # Tuple\\nf = {\"ss\", } # Set\\n\\nprint(a)\\nprint(b)\\nprint(c)\\nprint(d)\\nprint(e)\\nprint(f)', '_iii': '', '_i1': 'a = \"змінна з текстом\"\\nb = 1 # числова Змінна\\nc = [\"a\", 1, 1.25, \"Слово\"] # List\\nd = {\"a\": \"Слово\", \"b\": 1} # Dict\\ne = (\"a\", ) # Tuple\\nf = {\"ss\", } # Set\\n\\nprint(a)\\nprint(b)\\nprint(c)\\nprint(d)\\nprint(e)\\nprint(f)', 'a': 'змінна з текстом', 'b': 1, 'c': ['a', 1, 1.25, 'Слово'], 'd': {'a': 'Слово', 'b': 1}, 'e': ('a',), 'f': {'ss'}, '_i2': 'print(\"Перша константа\", False)\\nprint(\"Друга константа\", True)\\nprint(\"Третя константа\", None)', '_i3': 'print(abs(-12.5), f\"є рівним {abs(12.5)}\")\\nprint(globals())\\nprint(float())'}\n",
      "0.0\n"
     ]
    }
   ],
   "source": [
    "print(abs(-12.5), f\"є рівним {abs(12.5)}\")\n",
    "print(globals())\n",
    "print(float())\n"
   ]
  },
  {
   "cell_type": "code",
   "execution_count": 7,
   "metadata": {},
   "outputs": [
    {
     "name": "stdout",
     "output_type": "stream",
     "text": [
      "На позиції 0 знаходиться буква a\n",
      "На позиції 1 знаходиться буква b\n",
      "На позиції 2 знаходиться буква c\n",
      "0\n",
      "1\n",
      "2\n",
      "3\n",
      "4\n",
      "Чого на цій позиції 0 знаходиться це f\n",
      "Чого на цій позиції 1 знаходиться це e\n",
      "Чого на цій позиції 2 знаходиться це j\n"
     ]
    }
   ],
   "source": [
    "letters = [\"a\", \"b\", \"c\"]\n",
    "for i in range(len(letters)):\n",
    "    print(f\"На позиції {i} знаходиться буква {letters[i]}\")\n",
    "\n",
    "for i in range(5):\n",
    "    print(i)\n",
    "    i = 5 \n",
    "\n",
    "letters = [\"f\", \"e\", \"j\"]\n",
    "for i in range(len(letters)):\n",
    "    print(f\"Чого на цій позиції {i} знаходиться це {letters[i]}\")"
   ]
  },
  {
   "cell_type": "code",
   "execution_count": 11,
   "metadata": {},
   "outputs": [
    {
     "name": "stdout",
     "output_type": "stream",
     "text": [
      "Значить А=True\n",
      "А тут той вот\n",
      "Ну цей вот\n"
     ]
    }
   ],
   "source": [
    "A = True\n",
    "print(\"Значить А=True\" if A else \"Значить А=False\")\n",
    "\n",
    "if 1 > 2:\n",
    "    print(\"Ну цей вот\")\n",
    "else:\n",
    "    print(\"А тут той вот\")\n",
    "\n",
    "if 2 > 1:\n",
    "    print(\"Ну цей вот\")\n",
    "else:\n",
    "    print(\"А тут той вот\")\n"
   ]
  },
  {
   "cell_type": "code",
   "execution_count": 19,
   "metadata": {},
   "outputs": [
    {
     "name": "stdout",
     "output_type": "stream",
     "text": [
      "division by zero\n",
      "А вот воно що!\n",
      "Ну цей вот 2.0 ?\n",
      "Получилось/Неполучилось\n"
     ]
    }
   ],
   "source": [
    "A = 0\n",
    "try:\n",
    "    print(\"Що буде якщо\", 10/A, \"?\")\n",
    "except Exception as e:\n",
    "    print(e)\n",
    "finally:\n",
    "    print(\"А вот воно що!\")\n",
    "\n",
    "A = 5\n",
    "try:\n",
    "    print(\"Ну цей вот\", 10/A, \"?\")\n",
    "except Exception as e:\n",
    "    print(e)\n",
    "finally:\n",
    "    print(\"Получилось/Неполучилось\")"
   ]
  },
  {
   "cell_type": "code",
   "execution_count": 22,
   "metadata": {},
   "outputs": [
    {
     "name": "stdout",
     "output_type": "stream",
     "text": [
      "drh\n",
      "\n",
      "st\n",
      "\n",
      "h\n",
      "\n",
      "dtry\n",
      "\n",
      "kj\n",
      "\n",
      "fyul\n",
      "\n",
      "\n",
      "\n",
      "uho;\n",
      "\n",
      "\n",
      "\n",
      "hu\n",
      "\n",
      "\n",
      "\n",
      "rtd\n",
      "\n",
      "huer\n",
      "\n",
      "hudf\n",
      "\n",
      "huf\n",
      "\n",
      "kyj\n",
      "\n",
      "fyulkl\n",
      "\n",
      "gy\n",
      "\n",
      "l\n",
      "\n",
      "gil\n",
      "\n",
      "h\n",
      "\n",
      "o;\n",
      "\n",
      "h\n",
      "\n",
      "io;\n"
     ]
    }
   ],
   "source": [
    "with open(\"JoJo.txt\", \"r\") as f:\n",
    "    for line in f:\n",
    "        print(line)"
   ]
  },
  {
   "cell_type": "code",
   "execution_count": 31,
   "metadata": {},
   "outputs": [
    {
     "name": "stdout",
     "output_type": "stream",
     "text": [
      "Це просто функція: <function <lambda> at 0x000002AFA6C4F520>\n",
      "Це її виклик: Цей код написав: Богдан Бугиль\n",
      "25\n"
     ]
    }
   ],
   "source": [
    "this_is_lambda = lambda first, last: f'Цей код написав: {first} {last}'\n",
    "print(\"Це просто функція:\", this_is_lambda)\n",
    "print(\"Це її виклик:\", this_is_lambda('Богдан', 'Бугиль'))\n",
    "\n",
    "gta = lambda x: x*x\n",
    "print(gta(5))"
   ]
  }
 ],
 "metadata": {
  "kernelspec": {
   "display_name": "Python 3.10.6 64-bit",
   "language": "python",
   "name": "python3"
  },
  "language_info": {
   "codemirror_mode": {
    "name": "ipython",
    "version": 3
   },
   "file_extension": ".py",
   "mimetype": "text/x-python",
   "name": "python",
   "nbconvert_exporter": "python",
   "pygments_lexer": "ipython3",
   "version": "3.10.6"
  },
  "orig_nbformat": 4,
  "vscode": {
   "interpreter": {
    "hash": "22057194578297a9de703a95ef228e2076b4dd0fc4afc72d8546d0a4709bde06"
   }
  }
 },
 "nbformat": 4,
 "nbformat_minor": 2
}
